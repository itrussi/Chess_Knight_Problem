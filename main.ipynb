{
 "cells": [
  {
   "attachments": {},
   "cell_type": "markdown",
   "metadata": {},
   "source": [
    "### Chess Problem Solver\n",
    "\n",
    "Define the initial info such as logging"
   ]
  },
  {
   "cell_type": "code",
   "execution_count": null,
   "metadata": {},
   "outputs": [],
   "source": [
    "from time import time\n",
    "from os import system\n",
    "import logging\n",
    "\n",
    "global logger\n",
    "\n",
    "logging.basicConfig(\n",
    "    filename='main.log',\n",
    "    level=logging.INFO,\n",
    "    format=\n",
    "    '%(asctime)s — %(name)s — %(levelname)s — %(funcName)s:%(lineno)d — %(message)s'\n",
    ")\n",
    "\n",
    "logger = logging.getLogger(__name__)"
   ]
  },
  {
   "attachments": {},
   "cell_type": "markdown",
   "metadata": {},
   "source": [
    "### Define the Solver Class\n",
    "\n",
    "Defines the class and defines the basic variables such as a 2D array that will represent the chessboard"
   ]
  },
  {
   "cell_type": "code",
   "execution_count": null,
   "metadata": {},
   "outputs": [],
   "source": [
    "class Solver:\n",
    "\n",
    "    __slots__ = \"chessboard\", \"solution\", \"moves\"\n",
    "    \n",
    "    def __init__(self):\n",
    "        self.chessboard = [[0 for _ in range(8)] for _ in range(8)]\n",
    "        self.solution = [[0, 0]]\n",
    "\n",
    "        self.moves =((2, 1), (1, 2), (-1, 2), (-2, 1), (-2, -1), (-1, -2), (1, -2), (2, -1))"
   ]
  },
  {
   "attachments": {},
   "cell_type": "markdown",
   "metadata": {},
   "source": [
    "### Define the begin method\n",
    "\n",
    "Creates the method that will be used for the user to start the solver"
   ]
  },
  {
   "cell_type": "code",
   "execution_count": null,
   "metadata": {},
   "outputs": [],
   "source": [
    "def begin(self):\n",
    "    self.chessboard[0][0] = 1\n",
    "        \n",
    "    if self.iterate(2, 0, 0) == True:\n",
    "        return True\n",
    "            \n",
    "    else:\n",
    "        return False"
   ]
  },
  {
   "attachments": {},
   "cell_type": "markdown",
   "metadata": {},
   "source": [
    "### Define the iterate method\n",
    "\n",
    "Creates the method that will be used to iterate over itself to solve the problem"
   ]
  },
  {
   "cell_type": "code",
   "execution_count": null,
   "metadata": {},
   "outputs": [],
   "source": [
    "def iterate(self, counter, x, y):\n",
    "    if counter == 64:\n",
    "        return True\n",
    "\n",
    "    possible_moves = self.get_moves(x, y)\n",
    "        \n",
    "    for move in possible_moves:\n",
    "\n",
    "        system('clear')\n",
    "        self.print_board()\n",
    "        print(\"\\n\")\n",
    "\n",
    "        attempt_x = move[0]\n",
    "        attempt_y = move[1]\n",
    "                \n",
    "        self.chessboard[attempt_x][attempt_y] = counter\n",
    "        self.solution.append([attempt_x, attempt_y])\n",
    "\n",
    "        logger.info(f\"Moved to ({attempt_x}, {attempt_y}) from ({x}, {y})\")\n",
    "                \n",
    "        if self.iterate(counter+1, attempt_x, attempt_y) == True:\n",
    "            return True\n",
    "\n",
    "        try:\n",
    "            self.solution.pop()\n",
    "                    \n",
    "        except:\n",
    "            continue\n",
    "                    \n",
    "        finally:\n",
    "            self.chessboard[attempt_x][attempt_y] = 0\n",
    "            logger.info(f\"Backtracked from ({attempt_x}, {attempt_y}) to ({x}, {y})\")\n",
    "\n",
    "    return False"
   ]
  },
  {
   "attachments": {},
   "cell_type": "markdown",
   "metadata": {},
   "source": [
    "### Define the validate method\n",
    "\n",
    "Creates the method that will be used verify the moves"
   ]
  },
  {
   "cell_type": "code",
   "execution_count": null,
   "metadata": {},
   "outputs": [],
   "source": [
    "def validate(self, x, y):\n",
    "    if (x >= 0 and x < 8 and y >= 0 and y < 8 and self.chessboard[x][y] == 0):\n",
    "        return True\n",
    "    else:\n",
    "        return False"
   ]
  },
  {
   "attachments": {},
   "cell_type": "markdown",
   "metadata": {},
   "source": [
    "### Define the get_moves method\n",
    "\n",
    "Creates the method that will be used fetch all the possible moves the knight can make from this position"
   ]
  },
  {
   "cell_type": "code",
   "execution_count": null,
   "metadata": {},
   "outputs": [],
   "source": [
    "def get_moves(self, x, y):\n",
    "\n",
    "    valid_moves = []\n",
    "        \n",
    "    for i in range(8):\n",
    "        check_x = x + self.moves[i][0]\n",
    "        check_y = y + self.moves[i][1]\n",
    "\n",
    "        if self.validate(check_x, check_y) == True:\n",
    "            valid_moves.append([check_x, check_y])\n",
    "\n",
    "    return valid_moves"
   ]
  },
  {
   "attachments": {},
   "cell_type": "markdown",
   "metadata": {},
   "source": [
    "### Define the print_board method\n",
    "\n",
    "Creates the method that will be used to print the chess board"
   ]
  },
  {
   "cell_type": "code",
   "execution_count": null,
   "metadata": {},
   "outputs": [],
   "source": [
    "def print_board(self):\n",
    "    for y in range(8):\n",
    "        for x in range(8):\n",
    "            print(self.chessboard[x][y], end='  ')\n",
    "        print()\n",
    "\n",
    "    print(\"\\n\")\n",
    "    print(f\"Solution: {self.solution}\")"
   ]
  },
  {
   "attachments": {},
   "cell_type": "markdown",
   "metadata": {},
   "source": [
    "### Overall Code"
   ]
  },
  {
   "cell_type": "code",
   "execution_count": null,
   "metadata": {},
   "outputs": [],
   "source": [
    "from time import time\n",
    "from os import system\n",
    "import logging\n",
    "\n",
    "global logger\n",
    "\n",
    "logging.basicConfig(\n",
    "    filename='main.log',\n",
    "    level=logging.INFO,\n",
    "    format=\n",
    "    '%(asctime)s — %(name)s — %(levelname)s — %(funcName)s:%(lineno)d — %(message)s'\n",
    ")\n",
    "\n",
    "logger = logging.getLogger(__name__)\n",
    "\n",
    "class Solver:\n",
    "\n",
    "    __slots__ = \"chessboard\", \"solution\", \"moves\"\n",
    "    \n",
    "    def __init__(self):\n",
    "        self.chessboard = [[0 for _ in range(8)] for _ in range(8)]\n",
    "        self.solution = [[0, 0]]\n",
    "\n",
    "        self.moves =((2, 1), (1, 2), (-1, 2), (-2, 1), (-2, -1), (-1, -2), (1, -2), (2, -1))\n",
    "\n",
    "    def begin(self):\n",
    "        self.chessboard[0][0] = 1\n",
    "        \n",
    "        if self.iterate(2, 0, 0) == True:\n",
    "            return True\n",
    "            \n",
    "        else:\n",
    "            return False\n",
    "\n",
    "    def iterate(self, counter, x, y):\n",
    "        if counter == 64:\n",
    "            return True\n",
    "\n",
    "        possible_moves = self.get_moves(x, y)\n",
    "        \n",
    "        for move in possible_moves:\n",
    "\n",
    "            system('clear')\n",
    "            self.print_board()\n",
    "            print(\"\\n\")\n",
    "\n",
    "            attempt_x = move[0]\n",
    "            attempt_y = move[1]\n",
    "                \n",
    "            self.chessboard[attempt_x][attempt_y] = counter\n",
    "            self.solution.append([attempt_x, attempt_y])\n",
    "\n",
    "            logger.info(f\"Moved to ({attempt_x}, {attempt_y}) from ({x}, {y})\")\n",
    "                \n",
    "            if self.iterate(counter+1, attempt_x, attempt_y) == True:\n",
    "                return True\n",
    "\n",
    "            try:\n",
    "                self.solution.pop()\n",
    "                    \n",
    "            except:\n",
    "                continue\n",
    "                    \n",
    "            finally:\n",
    "                self.chessboard[attempt_x][attempt_y] = 0\n",
    "                logger.info(f\"Backtracked from ({attempt_x}, {attempt_y}) to ({x}, {y})\")\n",
    "\n",
    "        return False\n",
    "\n",
    "    def validate(self, x, y):\n",
    "        if (x >= 0 and x < 8 and y >= 0 and y < 8 and self.chessboard[x][y] == 0):\n",
    "            return True\n",
    "        else:\n",
    "            return False\n",
    "\n",
    "    def get_moves(self, x, y):\n",
    "\n",
    "        valid_moves = []\n",
    "        \n",
    "        for i in range(8):\n",
    "            check_x = x + self.moves[i][0]\n",
    "            check_y = y + self.moves[i][1]\n",
    "\n",
    "            if self.validate(check_x, check_y) == True:\n",
    "                valid_moves.append([check_x, check_y])\n",
    "\n",
    "        return valid_moves\n",
    "\n",
    "    def print_board(self):\n",
    "        for y in range(8):\n",
    "            for x in range(8):\n",
    "                print(self.chessboard[x][y], end='  ')\n",
    "            print()\n",
    "\n",
    "        print(\"\\n\")\n",
    "        print(f\"Solution: {self.solution}\")\n",
    "\n",
    "s = Solver()\n",
    "start = time()\n",
    "s.begin()\n",
    "s.print_board()\n",
    "end = time()\n",
    "print(\"\\n\")\n",
    "print(end - start)"
   ]
  }
 ],
 "metadata": {
  "language_info": {
   "name": "python"
  },
  "orig_nbformat": 4
 },
 "nbformat": 4,
 "nbformat_minor": 2
}
